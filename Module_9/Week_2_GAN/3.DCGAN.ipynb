{
 "cells": [
  {
   "cell_type": "code",
   "execution_count": 1,
   "metadata": {},
   "outputs": [
    {
     "data": {
      "text/plain": [
       "'cuda'"
      ]
     },
     "execution_count": 1,
     "metadata": {},
     "output_type": "execute_result"
    }
   ],
   "source": [
    "import torch\n",
    "from torch import nn, Tensor\n",
    "import numpy as np\n",
    "from torchvision.utils import save_image\n",
    "\n",
    "device = \"cuda\" if torch.cuda.is_available() else \"cpu\"\n",
    "device"
   ]
  },
  {
   "cell_type": "markdown",
   "metadata": {},
   "source": [
    "# 1. Dataset"
   ]
  },
  {
   "cell_type": "code",
   "execution_count": 2,
   "metadata": {},
   "outputs": [],
   "source": [
    "import torchvision\n",
    "\n",
    "img_size = 32\n",
    "\n",
    "transform = torchvision.transforms.Compose([\n",
    "    torchvision.transforms.Resize((img_size, img_size)),\n",
    "    torchvision.transforms.ToTensor(),\n",
    "    torchvision.transforms.Normalize(mean=[0.5], std=[0.5])\n",
    "])\n",
    "\n",
    "images = torchvision.datasets.MNIST(root='./mnist_data', train=True, download=True, transform=transform)"
   ]
  },
  {
   "cell_type": "code",
   "execution_count": 3,
   "metadata": {},
   "outputs": [],
   "source": [
    "BATCH_SIZE = 64\n",
    "dataloader = torch.utils.data.DataLoader(images, batch_size=BATCH_SIZE, shuffle=True)"
   ]
  },
  {
   "cell_type": "markdown",
   "metadata": {},
   "source": [
    "# 2. Model"
   ]
  },
  {
   "cell_type": "code",
   "execution_count": 4,
   "metadata": {},
   "outputs": [],
   "source": [
    "channels = 1\n",
    "img_shape = (channels, img_size, img_size)\n",
    "latent_dim = 100"
   ]
  },
  {
   "cell_type": "code",
   "execution_count": null,
   "metadata": {},
   "outputs": [],
   "source": []
  },
  {
   "cell_type": "code",
   "execution_count": 5,
   "metadata": {},
   "outputs": [],
   "source": [
    "class Generator(nn.Module):\n",
    "    def __init__(self):\n",
    "        super().__init__()\n",
    "        self.init_size = 8\n",
    "        self.fc = nn.Linear(latent_dim, 128*8*8)\n",
    "        self.conv_blocks = nn.Sequential(\n",
    "            nn.BatchNorm2d(128),\n",
    "            nn.Upsample(scale_factor=2),\n",
    "            nn.Conv2d(128, 128, 3, padding=1),\n",
    "\n",
    "            nn.BatchNorm2d(128),\n",
    "            nn.LeakyReLU(0.2, inplace=True),\n",
    "            nn.Upsample(scale_factor=2),\n",
    "            nn.Conv2d(128, 64, 3, padding=1),\n",
    "\n",
    "            nn.BatchNorm2d(64,),\n",
    "            nn.LeakyReLU(0.2, inplace=True),\n",
    "            nn.Conv2d(64, channels, \n",
    "                      kernel_size=3, padding=1),            \n",
    "            nn.Tanh()\n",
    "        )\n",
    "        \n",
    "    def forward(self, z):\n",
    "        x = self.fc(z)\n",
    "        x = x.view(x.shape[0], 128, \n",
    "                   self.init_size, self.init_size)\n",
    "        img = self.conv_blocks(x)\n",
    "        return img"
   ]
  },
  {
   "cell_type": "code",
   "execution_count": 6,
   "metadata": {},
   "outputs": [],
   "source": [
    "class Descriminator(nn.Module):\n",
    "    def __init__(self):\n",
    "        super().__init__()\n",
    "        self.model = nn.Sequential(\n",
    "            nn.Conv2d(channels, 16, kernel_size=3, stride=2, padding=1), \n",
    "            nn.LeakyReLU(0.2, inplace=True),\n",
    "\n",
    "            nn.Conv2d(16, 32, kernel_size=3, stride=2, padding=1), \n",
    "            nn.LeakyReLU(0.2, inplace=True),\n",
    "\n",
    "            nn.Conv2d(32, 64, kernel_size=3, stride=2, padding=1), \n",
    "            nn.LeakyReLU(0.2, inplace=True),\n",
    "\n",
    "            nn.Conv2d(64, 128, kernel_size=3, stride=2, padding=1), \n",
    "            nn.LeakyReLU(0.2, inplace=True),\n",
    "        )\n",
    "        \n",
    "        self.adv_layer = nn.Sequential(\n",
    "            nn.Linear(128*2*2, 1), \n",
    "            nn.Sigmoid()\n",
    "        )\n",
    "        \n",
    "    def forward(self, img):\n",
    "        x = self.model(img)\n",
    "        x = x.view(x.shape[0], -1)\n",
    "        validity = self.adv_layer(x)\n",
    "        return validity"
   ]
  },
  {
   "cell_type": "code",
   "execution_count": 7,
   "metadata": {},
   "outputs": [],
   "source": [
    "generator = Generator()\n",
    "discriminator = Descriminator()"
   ]
  },
  {
   "cell_type": "code",
   "execution_count": 8,
   "metadata": {},
   "outputs": [
    {
     "data": {
      "text/plain": [
       "Generator(\n",
       "  (fc): Linear(in_features=100, out_features=8192, bias=True)\n",
       "  (conv_blocks): Sequential(\n",
       "    (0): BatchNorm2d(128, eps=1e-05, momentum=0.1, affine=True, track_running_stats=True)\n",
       "    (1): Upsample(scale_factor=2.0, mode='nearest')\n",
       "    (2): Conv2d(128, 128, kernel_size=(3, 3), stride=(1, 1), padding=(1, 1))\n",
       "    (3): BatchNorm2d(128, eps=1e-05, momentum=0.1, affine=True, track_running_stats=True)\n",
       "    (4): LeakyReLU(negative_slope=0.2, inplace=True)\n",
       "    (5): Upsample(scale_factor=2.0, mode='nearest')\n",
       "    (6): Conv2d(128, 64, kernel_size=(3, 3), stride=(1, 1), padding=(1, 1))\n",
       "    (7): BatchNorm2d(64, eps=1e-05, momentum=0.1, affine=True, track_running_stats=True)\n",
       "    (8): LeakyReLU(negative_slope=0.2, inplace=True)\n",
       "    (9): Conv2d(64, 1, kernel_size=(3, 3), stride=(1, 1), padding=(1, 1))\n",
       "    (10): Tanh()\n",
       "  )\n",
       ")"
      ]
     },
     "execution_count": 8,
     "metadata": {},
     "output_type": "execute_result"
    }
   ],
   "source": [
    "generator.to(device)"
   ]
  },
  {
   "cell_type": "code",
   "execution_count": 9,
   "metadata": {},
   "outputs": [
    {
     "data": {
      "text/plain": [
       "Descriminator(\n",
       "  (model): Sequential(\n",
       "    (0): Conv2d(1, 16, kernel_size=(3, 3), stride=(2, 2), padding=(1, 1))\n",
       "    (1): LeakyReLU(negative_slope=0.2, inplace=True)\n",
       "    (2): Dropout2d(p=0.25, inplace=False)\n",
       "    (3): Conv2d(16, 32, kernel_size=(3, 3), stride=(2, 2), padding=(1, 1))\n",
       "    (4): LeakyReLU(negative_slope=0.2, inplace=True)\n",
       "    (5): Dropout2d(p=0.25, inplace=False)\n",
       "    (6): BatchNorm2d(32, eps=1e-05, momentum=0.1, affine=True, track_running_stats=True)\n",
       "    (7): Conv2d(32, 64, kernel_size=(3, 3), stride=(2, 2), padding=(1, 1))\n",
       "    (8): LeakyReLU(negative_slope=0.2, inplace=True)\n",
       "    (9): Dropout2d(p=0.25, inplace=False)\n",
       "    (10): BatchNorm2d(64, eps=1e-05, momentum=0.1, affine=True, track_running_stats=True)\n",
       "    (11): Conv2d(64, 128, kernel_size=(3, 3), stride=(2, 2), padding=(1, 1))\n",
       "    (12): LeakyReLU(negative_slope=0.2, inplace=True)\n",
       "    (13): Dropout2d(p=0.25, inplace=False)\n",
       "    (14): BatchNorm2d(128, eps=1e-05, momentum=0.1, affine=True, track_running_stats=True)\n",
       "  )\n",
       "  (adv_layer): Sequential(\n",
       "    (0): Linear(in_features=512, out_features=1, bias=True)\n",
       "    (1): Sigmoid()\n",
       "  )\n",
       ")"
      ]
     },
     "execution_count": 9,
     "metadata": {},
     "output_type": "execute_result"
    }
   ],
   "source": [
    "discriminator.to(device)"
   ]
  },
  {
   "cell_type": "markdown",
   "metadata": {},
   "source": [
    "# 3. Training"
   ]
  },
  {
   "cell_type": "code",
   "execution_count": 10,
   "metadata": {},
   "outputs": [],
   "source": [
    "import os\n",
    "os.makedirs(\"images\", exist_ok=True)\n",
    "\n",
    "save_interval = 10"
   ]
  },
  {
   "cell_type": "code",
   "execution_count": 11,
   "metadata": {},
   "outputs": [
    {
     "name": "stdout",
     "output_type": "stream",
     "text": [
      "Epoch [1/60], Train G Loss: 0.9219, Train D Loss: 0.6193\n",
      "Epoch [2/60], Train G Loss: 1.4682, Train D Loss: 0.4143\n",
      "Epoch [3/60], Train G Loss: 1.7795, Train D Loss: 0.3305\n",
      "Epoch [4/60], Train G Loss: 2.0228, Train D Loss: 0.2713\n",
      "Epoch [5/60], Train G Loss: 2.2424, Train D Loss: 0.2328\n",
      "Epoch [6/60], Train G Loss: 2.3903, Train D Loss: 0.2176\n",
      "Epoch [7/60], Train G Loss: 2.5248, Train D Loss: 0.1985\n",
      "Epoch [8/60], Train G Loss: 2.6240, Train D Loss: 0.1880\n",
      "Epoch [9/60], Train G Loss: 2.7473, Train D Loss: 0.1724\n",
      "Epoch [10/60], Train G Loss: 2.8217, Train D Loss: 0.1695\n",
      "Epoch [11/60], Train G Loss: 2.9350, Train D Loss: 0.1657\n",
      "Epoch [12/60], Train G Loss: 2.9979, Train D Loss: 0.1554\n",
      "Epoch [13/60], Train G Loss: 3.0535, Train D Loss: 0.1505\n",
      "Epoch [14/60], Train G Loss: 3.0835, Train D Loss: 0.1451\n",
      "Epoch [15/60], Train G Loss: 3.1715, Train D Loss: 0.1394\n",
      "Epoch [16/60], Train G Loss: 3.2146, Train D Loss: 0.1252\n",
      "Epoch [17/60], Train G Loss: 3.3025, Train D Loss: 0.1399\n",
      "Epoch [18/60], Train G Loss: 3.4176, Train D Loss: 0.1328\n",
      "Epoch [19/60], Train G Loss: 3.4494, Train D Loss: 0.1294\n",
      "Epoch [20/60], Train G Loss: 3.5603, Train D Loss: 0.1174\n",
      "Epoch [21/60], Train G Loss: 3.6338, Train D Loss: 0.0987\n",
      "Epoch [22/60], Train G Loss: 3.7337, Train D Loss: 0.1021\n",
      "Epoch [23/60], Train G Loss: 3.8593, Train D Loss: 0.1058\n",
      "Epoch [24/60], Train G Loss: 3.9445, Train D Loss: 0.0985\n",
      "Epoch [25/60], Train G Loss: 3.9971, Train D Loss: 0.1029\n",
      "Epoch [26/60], Train G Loss: 4.0544, Train D Loss: 0.0891\n",
      "Epoch [27/60], Train G Loss: 4.1948, Train D Loss: 0.0851\n",
      "Epoch [28/60], Train G Loss: 4.2035, Train D Loss: 0.0844\n",
      "Epoch [29/60], Train G Loss: 4.4067, Train D Loss: 0.0827\n",
      "Epoch [30/60], Train G Loss: 4.5330, Train D Loss: 0.0667\n",
      "Epoch [31/60], Train G Loss: 4.5648, Train D Loss: 0.0763\n",
      "Epoch [32/60], Train G Loss: 4.6542, Train D Loss: 0.0686\n",
      "Epoch [33/60], Train G Loss: 4.7918, Train D Loss: 0.0709\n",
      "Epoch [34/60], Train G Loss: 4.9637, Train D Loss: 0.0544\n",
      "Epoch [35/60], Train G Loss: 5.2052, Train D Loss: 0.0508\n",
      "Epoch [36/60], Train G Loss: 5.3712, Train D Loss: 0.0503\n",
      "Epoch [37/60], Train G Loss: 5.7208, Train D Loss: 0.0361\n",
      "Epoch [38/60], Train G Loss: 5.7077, Train D Loss: 0.0405\n",
      "Epoch [39/60], Train G Loss: 6.0073, Train D Loss: 0.0336\n",
      "Epoch [40/60], Train G Loss: 6.0577, Train D Loss: 0.0410\n",
      "Epoch [41/60], Train G Loss: 6.0519, Train D Loss: 0.0307\n",
      "Epoch [42/60], Train G Loss: 6.1897, Train D Loss: 0.0414\n",
      "Epoch [43/60], Train G Loss: 6.6166, Train D Loss: 0.0243\n",
      "Epoch [44/60], Train G Loss: 6.6968, Train D Loss: 0.0235\n",
      "Epoch [45/60], Train G Loss: 6.8364, Train D Loss: 0.0190\n",
      "Epoch [46/60], Train G Loss: 6.4902, Train D Loss: 0.0378\n",
      "Epoch [47/60], Train G Loss: 6.6250, Train D Loss: 0.0361\n",
      "Epoch [48/60], Train G Loss: 6.9015, Train D Loss: 0.0184\n",
      "Epoch [49/60], Train G Loss: 7.1493, Train D Loss: 0.0228\n",
      "Epoch [50/60], Train G Loss: 6.9038, Train D Loss: 0.0261\n",
      "Epoch [51/60], Train G Loss: 7.4494, Train D Loss: 0.0103\n",
      "Epoch [52/60], Train G Loss: 7.2405, Train D Loss: 0.0205\n",
      "Epoch [53/60], Train G Loss: 7.0566, Train D Loss: 0.0331\n",
      "Epoch [54/60], Train G Loss: 7.4039, Train D Loss: 0.0168\n",
      "Epoch [55/60], Train G Loss: 7.3040, Train D Loss: 0.0183\n",
      "Epoch [56/60], Train G Loss: 7.0791, Train D Loss: 0.0295\n",
      "Epoch [57/60], Train G Loss: 7.4116, Train D Loss: 0.0210\n",
      "Epoch [58/60], Train G Loss: 7.3909, Train D Loss: 0.0219\n",
      "Epoch [59/60], Train G Loss: 7.3960, Train D Loss: 0.0179\n",
      "Epoch [60/60], Train G Loss: 7.6384, Train D Loss: 0.0225\n"
     ]
    }
   ],
   "source": [
    "EPOCHS = 60\n",
    "\n",
    "optimizer_G = torch.optim.Adam(generator.parameters(), lr=0.0001)\n",
    "optimizer_D = torch.optim.Adam(discriminator.parameters(), lr=0.0002)\n",
    "\n",
    "criterion = nn.BCELoss()\n",
    "hist = {\n",
    "        \"train_G_loss\": [],\n",
    "        \"train_D_loss\": [],\n",
    "    }\n",
    "\n",
    "for epoch in range(EPOCHS):\n",
    "    running_G_loss = 0.0\n",
    "    running_D_loss = 0.0\n",
    "\n",
    "    for i, (imgs, _) in enumerate(dataloader):\n",
    "\n",
    "        real_imgs = imgs.to(device)\n",
    "        real_labels = torch.ones(imgs.shape[0], 1).to(device)\n",
    "        fake_labels = torch.zeros(imgs.shape[0], 1).to(device)\n",
    "\n",
    "        # --- Train Generator --- \n",
    "        optimizer_G.zero_grad()\n",
    "        # Noise input for Generator\n",
    "        z = torch.randn((imgs.shape[0], latent_dim)).to(device)\n",
    "\n",
    "        gen_imgs = generator(z)\n",
    "        G_loss = criterion(discriminator(gen_imgs), real_labels)\n",
    "        running_G_loss += G_loss.item()\n",
    "\n",
    "        G_loss.backward()\n",
    "        optimizer_G.step()\n",
    "\n",
    "\n",
    "\n",
    "        \n",
    "\n",
    "        # --- Train Discriminator --- \n",
    "        optimizer_D.zero_grad()\n",
    "        real_loss = criterion(discriminator(real_imgs), real_labels)\n",
    "        fake_loss = criterion(discriminator(gen_imgs.detach()), fake_labels)\n",
    "        D_loss = (real_loss + fake_loss) / 2\n",
    "        running_D_loss += D_loss.item()\n",
    "\n",
    "        D_loss.backward()\n",
    "        optimizer_D.step()\n",
    "    \n",
    "    epoch_G_loss = running_G_loss / len(dataloader)\n",
    "    epoch_D_loss = running_D_loss / len(dataloader)\n",
    "    \n",
    "    print(f\"Epoch [{epoch + 1}/{EPOCHS}], Train G Loss: {epoch_G_loss:.4f}, Train D Loss: {epoch_D_loss:.4f}\")\n",
    "\n",
    "    hist[\"train_G_loss\"].append(epoch_G_loss)\n",
    "    hist[\"train_D_loss\"].append(epoch_D_loss)\n",
    "\n",
    "    if epoch % save_interval == 0:\n",
    "        save_image(gen_imgs.data[:25], f\"images/epoch_{epoch}.png\", nrow=5, normalize=True)\n"
   ]
  }
 ],
 "metadata": {
  "kernelspec": {
   "display_name": "Python 3 (ipykernel)",
   "language": "python",
   "name": "python3"
  },
  "language_info": {
   "codemirror_mode": {
    "name": "ipython",
    "version": 3
   },
   "file_extension": ".py",
   "mimetype": "text/x-python",
   "name": "python",
   "nbconvert_exporter": "python",
   "pygments_lexer": "ipython3",
   "version": "3.9.18"
  }
 },
 "nbformat": 4,
 "nbformat_minor": 4
}
