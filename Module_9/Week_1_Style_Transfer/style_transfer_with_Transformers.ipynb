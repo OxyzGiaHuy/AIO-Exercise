{
  "cells": [
    {
      "cell_type": "code",
      "execution_count": null,
      "metadata": {
        "colab": {
          "base_uri": "https://localhost:8080/"
        },
        "id": "K-37byXkhXMG",
        "outputId": "d1215224-de96-4de7-e71e-e69933779a1d"
      },
      "outputs": [],
      "source": [
        "!gdown 11jL5m9WwF1_hDwCVlDlHYox_1qr2qX_E"
      ]
    },
    {
      "cell_type": "code",
      "execution_count": null,
      "metadata": {
        "colab": {
          "base_uri": "https://localhost:8080/"
        },
        "id": "Fp0SEjDfhrbK",
        "outputId": "4b450db6-4f19-4334-b7c7-a431389e145f"
      },
      "outputs": [],
      "source": [
        "!unzip StyTR.zip"
      ]
    },
    {
      "cell_type": "code",
      "execution_count": null,
      "metadata": {
        "colab": {
          "base_uri": "https://localhost:8080/"
        },
        "id": "v2Ew9gTZQ4VH",
        "outputId": "14e41221-a539-4c11-c537-ad9477884b2d"
      },
      "outputs": [],
      "source": [
        "!gdown 1BinnwM5AmIcVubr16tPTqxMjUCE8iu5M\n",
        "!gdown 1C3xzTOWx8dUXXybxZwmjijZN8SrC3e4B\n",
        "!gdown 1dnobsaLeE889T_LncCkAA2RkqzwsfHYy"
      ]
    },
    {
      "cell_type": "code",
      "execution_count": null,
      "metadata": {
        "id": "zD-M_kfhRlLv"
      },
      "outputs": [],
      "source": [
        "!mv \"/content/embedding_iter_160000.pth\" \"StyTR/experiments/\"\n",
        "!mv \"/content/transformer_iter_160000.pth\" \"StyTR/experiments/\"\n",
        "!mv \"/content/vgg_normalised.pth\" \"StyTR/experiments/\""
      ]
    },
    {
      "cell_type": "code",
      "execution_count": null,
      "metadata": {
        "colab": {
          "base_uri": "https://localhost:8080/"
        },
        "id": "wGtMHd8oR_5B",
        "outputId": "2bff09f4-bd28-409b-e11d-21a49ed11494"
      },
      "outputs": [],
      "source": [
        "!gdown 1mU--DNhy8pWMTljj7jI3FvJwRYRHwAq5\n",
        "!gdown 1yt9RDch0ZT9gtTfEBQLFFhGPw3PSOEh0\n",
        "!gdown 13XpLuVuxI6ekdEf5UElKH_IMWrK8wZU1\n"
      ]
    },
    {
      "cell_type": "code",
      "execution_count": null,
      "metadata": {
        "colab": {
          "base_uri": "https://localhost:8080/"
        },
        "id": "C3F62-TnSKEO",
        "outputId": "3f3f2432-165d-4773-a452-60a5703007f3"
      },
      "outputs": [],
      "source": [
        "cd StyTR"
      ]
    },
    {
      "cell_type": "code",
      "execution_count": null,
      "metadata": {
        "colab": {
          "base_uri": "https://localhost:8080/",
          "height": 298
        },
        "id": "YFzs8tC7Wy_K",
        "outputId": "383caf72-e7bb-4c11-879e-d2a835634639"
      },
      "outputs": [],
      "source": [
        "import torch\n",
        "import matplotlib.pyplot as plt\n",
        "from StyTR.util.utils import process_images\n",
        "from StyTR.util.utils import network as StyTR_model\n",
        "import numpy as np\n",
        "\n",
        "content_path = \"/content/content_img.jpg\"\n",
        "style_path = \"/content/style_img2.jpg\"\n",
        "\n",
        "content, style = process_images(content_path, style_path)\n",
        "\n",
        "with torch.no_grad():\n",
        "    output= StyTR_model(content,style)\n",
        "output = output[0].cpu()\n",
        "\n",
        "fig, ax = plt.subplots(1, 3, figsize=(15, 5))\n",
        "ax[0].imshow(content.cpu()[0].permute(1, 2, 0))\n",
        "ax[0].set_title('Content')\n",
        "ax[1].imshow(style.cpu()[0].permute(1, 2, 0))\n",
        "ax[1].set_title('Style')\n",
        "ax[2].imshow(output[0].permute(1, 2, 0))\n",
        "ax[2].set_title('Output')\n",
        "plt.show()"
      ]
    },
    {
      "cell_type": "code",
      "execution_count": null,
      "metadata": {
        "colab": {
          "base_uri": "https://localhost:8080/",
          "height": 479
        },
        "id": "6CPAF321gWxf",
        "outputId": "015b1b64-a98b-4088-8049-77846b8f5cef"
      },
      "outputs": [],
      "source": [
        "content_path = \"/content/content_img.jpg\"\n",
        "style_path = \"/content/style_img.jpg\"\n",
        "\n",
        "content, style = process_images(content_path, style_path)\n",
        "\n",
        "with torch.no_grad():\n",
        "    output= StyTR_model(content,style)\n",
        "output = output[0].cpu()\n",
        "\n",
        "fig, ax = plt.subplots(1, 3, figsize=(15, 5))\n",
        "ax[0].imshow(content.cpu()[0].permute(1, 2, 0))\n",
        "ax[0].set_title('Content')\n",
        "ax[1].imshow(style.cpu()[0].permute(1, 2, 0))\n",
        "ax[1].set_title('Style')\n",
        "ax[2].imshow(output[0].permute(1, 2, 0))\n",
        "ax[2].set_title('Output')\n",
        "\n",
        "plt.show()"
      ]
    }
  ],
  "metadata": {
    "accelerator": "GPU",
    "colab": {
      "gpuType": "T4",
      "provenance": []
    },
    "kernelspec": {
      "display_name": "Python 3",
      "name": "python3"
    },
    "language_info": {
      "name": "python"
    }
  },
  "nbformat": 4,
  "nbformat_minor": 0
}
