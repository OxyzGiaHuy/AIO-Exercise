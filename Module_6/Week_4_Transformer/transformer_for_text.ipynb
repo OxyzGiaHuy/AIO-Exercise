{
 "cells": [
  {
   "cell_type": "markdown",
   "metadata": {},
   "source": [
    "<div align=\"center\">\n",
    "<img  src=\"transformer.png\" align=\"center\" style=\"width: 35%; height: auto;\"/>\n",
    "<div>\n",
    "\n",
    "[Attention Is All You Need (paper arxiv)](https://arxiv.org/pdf/1706.03762)"
   ]
  }
 ],
 "metadata": {
  "language_info": {
   "name": "python"
  }
 },
 "nbformat": 4,
 "nbformat_minor": 2
}
