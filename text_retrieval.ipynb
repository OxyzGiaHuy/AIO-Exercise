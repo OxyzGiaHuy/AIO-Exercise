{
  "nbformat": 4,
  "nbformat_minor": 0,
  "metadata": {
    "colab": {
      "provenance": [],
      "authorship_tag": "ABX9TyO+gJAPKTTtp9dyp6TEeMce",
      "include_colab_link": true
    },
    "kernelspec": {
      "name": "python3",
      "display_name": "Python 3"
    },
    "language_info": {
      "name": "python"
    }
  },
  "cells": [
    {
      "cell_type": "markdown",
      "metadata": {
        "id": "view-in-github",
        "colab_type": "text"
      },
      "source": [
        "<a href=\"https://colab.research.google.com/github/OxyzGiaHuy/AIO-Exercise/blob/feature%2Fmodule2-week4-statistic/text_retrieval.ipynb\" target=\"_parent\"><img src=\"https://colab.research.google.com/assets/colab-badge.svg\" alt=\"Open In Colab\"/></a>"
      ]
    },
    {
      "cell_type": "code",
      "source": [
        "!gdown 1jh2p2DlaWsDo_vEWIcTrNh3mUuXd-cw6"
      ],
      "metadata": {
        "colab": {
          "base_uri": "https://localhost:8080/"
        },
        "id": "AuE1KgW2Yx6R",
        "outputId": "f20b8c86-12dc-4f60-9f4a-949d63a06ee7"
      },
      "execution_count": 1,
      "outputs": [
        {
          "output_type": "stream",
          "name": "stdout",
          "text": [
            "Downloading...\n",
            "From: https://drive.google.com/uc?id=1jh2p2DlaWsDo_vEWIcTrNh3mUuXd-cw6\n",
            "To: /content/vi_text_retrieval.csv\n",
            "\r  0% 0.00/201k [00:00<?, ?B/s]\r100% 201k/201k [00:00<00:00, 51.8MB/s]\n"
          ]
        }
      ]
    },
    {
      "cell_type": "code",
      "execution_count": 2,
      "metadata": {
        "colab": {
          "base_uri": "https://localhost:8080/"
        },
        "id": "j6ja5WOZYhEf",
        "outputId": "a22f8b83-6054-42be-f83b-003ccd9b2da6"
      },
      "outputs": [
        {
          "output_type": "execute_result",
          "data": {
            "text/plain": [
              "0.31126580760710637"
            ]
          },
          "metadata": {},
          "execution_count": 2
        }
      ],
      "source": [
        "import pandas as pd\n",
        "import numpy as np\n",
        "from sklearn.metrics.pairwise import cosine_similarity\n",
        "from sklearn.feature_extraction.text import TfidfVectorizer\n",
        "\n",
        "vi_data_df = pd.read_csv(\"./vi_text_retrieval.csv\")\n",
        "context = vi_data_df['text']\n",
        "context = [doc.lower() for doc in context]\n",
        "\n",
        "tfidf_vectorizer = TfidfVectorizer()\n",
        "context_embedded = tfidf_vectorizer.fit_transform(context)\n",
        "context_embedded.toarray()[7][0]"
      ]
    },
    {
      "cell_type": "code",
      "source": [
        "def tfidf_search(question, tfidf_vectorizer, top_d = 5):\n",
        "    # lowercasing before encoding\n",
        "    query_embedded = tfidf_vectorizer.transform([question.lower()])\n",
        "    cosine_scores = cosine_similarity(query_embedded, context_embedded).flatten()\n",
        "\n",
        "    # Get top k cosine score and index its\n",
        "    results = []\n",
        "    for idx in cosine_scores.argsort()[-top_d:][::-1]:\n",
        "        doc_score = {\n",
        "            'id': idx ,\n",
        "            'cosine_score': cosine_scores[idx]\n",
        "        }\n",
        "        results.append(doc_score)\n",
        "    return results\n",
        "\n",
        "question = vi_data_df.iloc[0]['question']\n",
        "results = tfidf_search(question, tfidf_vectorizer, top_d =5)\n",
        "results[0]['cosine_score']"
      ],
      "metadata": {
        "colab": {
          "base_uri": "https://localhost:8080/"
        },
        "id": "aQgFreDGZ88Q",
        "outputId": "3d13ee31-c4cc-45ac-8dea-bdae372bd0b4"
      },
      "execution_count": 6,
      "outputs": [
        {
          "output_type": "execute_result",
          "data": {
            "text/plain": [
              "0.6279910475266974"
            ]
          },
          "metadata": {},
          "execution_count": 6
        }
      ]
    },
    {
      "cell_type": "code",
      "source": [
        "def corr_search(question, tfidf_vectorizer, top_d = 5):\n",
        "    # lowercasing before encoding\n",
        "    query_embedded = tfidf_vectorizer.transform([question.lower()]).toarray()\n",
        "    corr_scores = np.corrcoef(np.vstack([query_embedded, context_embedded.toarray()]))\n",
        "    corr_scores = corr_scores[0][1:]\n",
        "    # Get top k correlation score and index its\n",
        "    results = []\n",
        "    for idx in corr_scores.argsort()[-top_d:][::-1]:\n",
        "        doc_score = {\n",
        "            'id': idx ,\n",
        "            'corr_score': corr_scores[idx]\n",
        "        }\n",
        "        results.append(doc_score)\n",
        "    return results\n",
        "\n",
        "question = vi_data_df.iloc[0]['question']\n",
        "results = corr_search(question, tfidf_vectorizer, top_d =5)\n",
        "results[1]['corr_score']"
      ],
      "metadata": {
        "colab": {
          "base_uri": "https://localhost:8080/"
        },
        "id": "UAMmFGadbHeJ",
        "outputId": "40bad100-cef5-4a20-a78b-a384b28dd9d3"
      },
      "execution_count": 8,
      "outputs": [
        {
          "output_type": "execute_result",
          "data": {
            "text/plain": [
              "0.20734246471973258"
            ]
          },
          "metadata": {},
          "execution_count": 8
        }
      ]
    }
  ]
}