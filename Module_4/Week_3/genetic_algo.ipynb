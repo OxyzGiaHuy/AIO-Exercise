{
 "cells": [
  {
   "cell_type": "markdown",
   "metadata": {},
   "source": [
    "### EX1: Read CSV"
   ]
  },
  {
   "cell_type": "code",
   "execution_count": 13,
   "metadata": {},
   "outputs": [],
   "source": [
    "import numpy as np\n",
    "import matplotlib.pyplot as plt\n",
    "import random\n",
    "random.seed(0)\n",
    "%matplotlib inline\n",
    "\n",
    "def load_data_from_file(fileName = \"advertising.csv\"):\n",
    "    data = np.genfromtxt(fileName, dtype=None, delimiter=',', skip_header=1)\n",
    "    features_X = data[:, :3]\n",
    "    sales_Y = data[:, 3]\n",
    "    features_X = np.c_[np.ones((len(features_X),1)), features_X]\n",
    "    return features_X, sales_Y"
   ]
  },
  {
   "cell_type": "code",
   "execution_count": 14,
   "metadata": {},
   "outputs": [
    {
     "name": "stdout",
     "output_type": "stream",
     "text": [
      "[[  1.  230.1  37.8  69.2]\n",
      " [  1.   44.5  39.3  45.1]\n",
      " [  1.   17.2  45.9  69.3]\n",
      " [  1.  151.5  41.3  58.5]\n",
      " [  1.  180.8  10.8  58.4]]\n"
     ]
    }
   ],
   "source": [
    "# Q2\n",
    "features_X, _ = load_data_from_file()\n",
    "print(features_X[:5,:])"
   ]
  },
  {
   "cell_type": "code",
   "execution_count": 15,
   "metadata": {},
   "outputs": [
    {
     "name": "stdout",
     "output_type": "stream",
     "text": [
      "(200,)\n"
     ]
    }
   ],
   "source": [
    "# Q3\n",
    "_, sales_Y = load_data_from_file()\n",
    "print(sales_Y.shape)"
   ]
  },
  {
   "cell_type": "markdown",
   "metadata": {},
   "source": [
    "### EX2: Create individual"
   ]
  },
  {
   "cell_type": "code",
   "execution_count": 16,
   "metadata": {},
   "outputs": [
    {
     "name": "stdout",
     "output_type": "stream",
     "text": [
      "[3.4442185152504816, 2.5795440294030243, -0.79428419169155, -2.4108324970703663]\n"
     ]
    }
   ],
   "source": [
    "def create_individual(n=4, bound=10):\n",
    "    individual = []\n",
    "    for _ in range(n):\n",
    "        individual.append(random.uniform(-bound/2, bound/2))\n",
    "    return individual\n",
    "\n",
    "individual = create_individual()\n",
    "print(individual)"
   ]
  },
  {
   "cell_type": "markdown",
   "metadata": {},
   "source": [
    "### EX3: Fitness function"
   ]
  },
  {
   "cell_type": "code",
   "execution_count": 17,
   "metadata": {},
   "outputs": [],
   "source": [
    "features_X, sales_Y = load_data_from_file()\n",
    "\n",
    "def compute_loss(individual):\n",
    "    theta = np.array(individual)\n",
    "    y_hat = features_X.dot(theta)\n",
    "    loss = np.multiply((y_hat-sales_Y), (y_hat-sales_Y)).mean()\n",
    "    return loss\n",
    "\n",
    "def compute_fitness(individual):\n",
    "    loss = compute_loss(individual)\n",
    "    fitness_value = 0\n",
    "    # ************ your code here ************\n",
    "    fitness_value = 1/loss\n",
    "    return fitness_value"
   ]
  },
  {
   "cell_type": "code",
   "execution_count": 18,
   "metadata": {},
   "outputs": [
    {
     "name": "stdout",
     "output_type": "stream",
     "text": [
      "1.0186001912541925e-06\n"
     ]
    }
   ],
   "source": [
    "# Q4\n",
    "features_X, sales_Y = load_data_from_file()\n",
    "individual = [4.09, 4.82, 3.10, 4.02]\n",
    "fitness_score = compute_fitness(individual)\n",
    "print(fitness_score)"
   ]
  },
  {
   "cell_type": "markdown",
   "metadata": {},
   "source": [
    "### EX4: Crossover"
   ]
  },
  {
   "cell_type": "code",
   "execution_count": 19,
   "metadata": {},
   "outputs": [],
   "source": [
    "def crossover(individual1, individual2, crossover_rate = 0.9):\n",
    "    individual1_new = individual1.copy()\n",
    "    individual2_new = individual2.copy()\n",
    "    # *************** Your code here **************\n",
    "    n = len(individual1)\n",
    "    for i in range(0, n):\n",
    "        if random.random() < crossover_rate:\n",
    "            individual1_new[i] = individual2[i]\n",
    "            individual2_new[i] = individual1[i]\n",
    "    return individual1_new, individual2_new"
   ]
  },
  {
   "cell_type": "code",
   "execution_count": 20,
   "metadata": {},
   "outputs": [
    {
     "name": "stdout",
     "output_type": "stream",
     "text": [
      "individual1:  [3.44, 2.57, -0.79, -2.41]\n",
      "individual2:  [4.09, 4.82, 3.1, 4.02]\n"
     ]
    }
   ],
   "source": [
    "# Q5\n",
    "individual1 = [4.09, 4.82, 3.10, 4.02]\n",
    "individual2 = [3.44, 2.57,-0.79,-2.41]\n",
    "individual1, individual2 = crossover(individual1, individual2, 2.0)\n",
    "print(\"individual1: \", individual1)\n",
    "print(\"individual2: \", individual2)"
   ]
  },
  {
   "cell_type": "markdown",
   "metadata": {},
   "source": [
    "### EX5: Mutation"
   ]
  },
  {
   "cell_type": "code",
   "execution_count": 21,
   "metadata": {},
   "outputs": [],
   "source": [
    "def mutate(individual, mutation_rate = 0.05):\n",
    "    individual_m = individual.copy()\n",
    "    # ******** Your code here ******************\n",
    "    for i in range(0, len(individual)):\n",
    "        if random.random() > mutation_rate:\n",
    "            individual_m[i] = random.randint(0,1)\n",
    "    return individual_m"
   ]
  },
  {
   "cell_type": "code",
   "execution_count": 22,
   "metadata": {},
   "outputs": [
    {
     "name": "stdout",
     "output_type": "stream",
     "text": [
      "True\n"
     ]
    }
   ],
   "source": [
    "# Q6\n",
    "before_individual = [4.09, 4.82, 3.10, 4.02]\n",
    "after_individual = mutate(individual, mutation_rate = 2.0)\n",
    "print(before_individual == after_individual)"
   ]
  },
  {
   "cell_type": "markdown",
   "metadata": {},
   "source": [
    "### EX6: Initialize Population"
   ]
  },
  {
   "cell_type": "code",
   "execution_count": 32,
   "metadata": {},
   "outputs": [],
   "source": [
    "def initialize_population(m):\n",
    "    population = [create_individual() for _ in range(m)]\n",
    "    return population"
   ]
  },
  {
   "cell_type": "markdown",
   "metadata": {},
   "source": [
    "### EX7: Selection"
   ]
  },
  {
   "cell_type": "code",
   "execution_count": 23,
   "metadata": {},
   "outputs": [],
   "source": [
    "def selection(sorted_old_population, m = 100):\n",
    "    index1 = random.randint(0, m-1)\n",
    "    while True:\n",
    "        index2 = random.randint(0, m-1)\n",
    "        if (index2 != index1):\n",
    "            break\n",
    "    individual_s = sorted_old_population[index1]\n",
    "    if index2 > index1:\n",
    "        individual_s = sorted_old_population[index2]\n",
    "    return individual_s"
   ]
  },
  {
   "cell_type": "code",
   "execution_count": 26,
   "metadata": {},
   "outputs": [
    {
     "data": {
      "text/plain": [
       "[5, 6]"
      ]
     },
     "execution_count": 26,
     "metadata": {},
     "output_type": "execute_result"
    }
   ],
   "source": []
  },
  {
   "cell_type": "markdown",
   "metadata": {},
   "source": [
    "### EX8: Create new population"
   ]
  },
  {
   "cell_type": "code",
   "execution_count": 36,
   "metadata": {},
   "outputs": [],
   "source": [
    "def create_new_population(old_population, elitism=2, gen=1):\n",
    "    m = len(old_population)\n",
    "    sorted_population = sorted(old_population, key=compute_fitness)\n",
    "\n",
    "    if gen%1 == 0:\n",
    "        print(\"Best loss:\", compute_loss(sorted_population[m-1]), \"with chromsome: \", sorted_population[m-1])\n",
    "    \n",
    "    new_population = []\n",
    "    while len(new_population) < m-elitism:\n",
    "        # selection\n",
    "        individual_s1 = selection(sorted_population, m)\n",
    "        individual_s2 = selection(sorted_population, m)\n",
    "\n",
    "        # crossover\n",
    "        individual_c1, individual_c2 = crossover(individual_s1, individual_s2)\n",
    "        \n",
    "        # mutation\n",
    "        individual_m1 = mutate(individual_c1)\n",
    "        individual_m2 = mutate(individual_c2)\n",
    "        \n",
    "        new_population.append(individual_m1)\n",
    "        new_population.append(individual_m2)\n",
    "\n",
    "    # copy elitism chromosomes that have best fitness score to the next generation\n",
    "    for ind in sorted_population[m-elitism:]:\n",
    "        new_population.append(ind)\n",
    "    \n",
    "    return new_population, compute_loss(sorted_population[m-1])"
   ]
  },
  {
   "cell_type": "code",
   "execution_count": 37,
   "metadata": {},
   "outputs": [
    {
     "name": "stdout",
     "output_type": "stream",
     "text": [
      "Best loss: 123415.051528805 with chromsome:  [3.44, 2.57, -0.79, -2.41]\n"
     ]
    }
   ],
   "source": [
    "# Q7\n",
    "individual1 = [4.09, 4.82, 3.10, 4.02]\n",
    "individual2 = [3.44, 2.57,-0.79,-2.41]\n",
    "old_population = [individual1, individual2]\n",
    "new_population, _ = create_new_population(old_population, elitism=2, gen=1)"
   ]
  },
  {
   "cell_type": "markdown",
   "metadata": {},
   "source": [
    "### EX9: All in one - GA"
   ]
  },
  {
   "cell_type": "code",
   "execution_count": 39,
   "metadata": {},
   "outputs": [
    {
     "name": "stdout",
     "output_type": "stream",
     "text": [
      "Best loss: 123415.051528805 with chromsome:  [3.44, 2.57, -0.79, -2.41]\n",
      "Best loss: 123415.051528805 with chromsome:  [3.44, 2.57, -0.79, -2.41]\n",
      "Best loss: 123415.051528805 with chromsome:  [3.44, 2.57, -0.79, -2.41]\n",
      "Best loss: 123415.051528805 with chromsome:  [3.44, 2.57, -0.79, -2.41]\n",
      "Best loss: 123415.051528805 with chromsome:  [3.44, 2.57, -0.79, -2.41]\n",
      "Best loss: 123415.051528805 with chromsome:  [3.44, 2.57, -0.79, -2.41]\n",
      "Best loss: 123415.051528805 with chromsome:  [3.44, 2.57, -0.79, -2.41]\n",
      "Best loss: 123415.051528805 with chromsome:  [3.44, 2.57, -0.79, -2.41]\n",
      "Best loss: 123415.051528805 with chromsome:  [3.44, 2.57, -0.79, -2.41]\n",
      "Best loss: 123415.051528805 with chromsome:  [3.44, 2.57, -0.79, -2.41]\n",
      "Best loss: 123415.051528805 with chromsome:  [3.44, 2.57, -0.79, -2.41]\n",
      "Best loss: 123415.051528805 with chromsome:  [3.44, 2.57, -0.79, -2.41]\n",
      "Best loss: 123415.051528805 with chromsome:  [3.44, 2.57, -0.79, -2.41]\n",
      "Best loss: 123415.051528805 with chromsome:  [3.44, 2.57, -0.79, -2.41]\n",
      "Best loss: 123415.051528805 with chromsome:  [3.44, 2.57, -0.79, -2.41]\n",
      "Best loss: 123415.051528805 with chromsome:  [3.44, 2.57, -0.79, -2.41]\n",
      "Best loss: 123415.051528805 with chromsome:  [3.44, 2.57, -0.79, -2.41]\n",
      "Best loss: 123415.051528805 with chromsome:  [3.44, 2.57, -0.79, -2.41]\n",
      "Best loss: 123415.051528805 with chromsome:  [3.44, 2.57, -0.79, -2.41]\n",
      "Best loss: 123415.051528805 with chromsome:  [3.44, 2.57, -0.79, -2.41]\n",
      "Best loss: 123415.051528805 with chromsome:  [3.44, 2.57, -0.79, -2.41]\n",
      "Best loss: 123415.051528805 with chromsome:  [3.44, 2.57, -0.79, -2.41]\n",
      "Best loss: 123415.051528805 with chromsome:  [3.44, 2.57, -0.79, -2.41]\n",
      "Best loss: 123415.051528805 with chromsome:  [3.44, 2.57, -0.79, -2.41]\n",
      "Best loss: 123415.051528805 with chromsome:  [3.44, 2.57, -0.79, -2.41]\n",
      "Best loss: 123415.051528805 with chromsome:  [3.44, 2.57, -0.79, -2.41]\n",
      "Best loss: 123415.051528805 with chromsome:  [3.44, 2.57, -0.79, -2.41]\n",
      "Best loss: 123415.051528805 with chromsome:  [3.44, 2.57, -0.79, -2.41]\n",
      "Best loss: 123415.051528805 with chromsome:  [3.44, 2.57, -0.79, -2.41]\n",
      "Best loss: 123415.051528805 with chromsome:  [3.44, 2.57, -0.79, -2.41]\n",
      "Best loss: 123415.051528805 with chromsome:  [3.44, 2.57, -0.79, -2.41]\n",
      "Best loss: 123415.051528805 with chromsome:  [3.44, 2.57, -0.79, -2.41]\n",
      "Best loss: 123415.051528805 with chromsome:  [3.44, 2.57, -0.79, -2.41]\n",
      "Best loss: 123415.051528805 with chromsome:  [3.44, 2.57, -0.79, -2.41]\n",
      "Best loss: 123415.051528805 with chromsome:  [3.44, 2.57, -0.79, -2.41]\n",
      "Best loss: 123415.051528805 with chromsome:  [3.44, 2.57, -0.79, -2.41]\n",
      "Best loss: 123415.051528805 with chromsome:  [3.44, 2.57, -0.79, -2.41]\n",
      "Best loss: 123415.051528805 with chromsome:  [3.44, 2.57, -0.79, -2.41]\n",
      "Best loss: 123415.051528805 with chromsome:  [3.44, 2.57, -0.79, -2.41]\n",
      "Best loss: 123415.051528805 with chromsome:  [3.44, 2.57, -0.79, -2.41]\n",
      "Best loss: 123415.051528805 with chromsome:  [3.44, 2.57, -0.79, -2.41]\n",
      "Best loss: 123415.051528805 with chromsome:  [3.44, 2.57, -0.79, -2.41]\n",
      "Best loss: 123415.051528805 with chromsome:  [3.44, 2.57, -0.79, -2.41]\n",
      "Best loss: 123415.051528805 with chromsome:  [3.44, 2.57, -0.79, -2.41]\n",
      "Best loss: 123415.051528805 with chromsome:  [3.44, 2.57, -0.79, -2.41]\n",
      "Best loss: 123415.051528805 with chromsome:  [3.44, 2.57, -0.79, -2.41]\n",
      "Best loss: 123415.051528805 with chromsome:  [3.44, 2.57, -0.79, -2.41]\n",
      "Best loss: 123415.051528805 with chromsome:  [3.44, 2.57, -0.79, -2.41]\n",
      "Best loss: 123415.051528805 with chromsome:  [3.44, 2.57, -0.79, -2.41]\n",
      "Best loss: 123415.051528805 with chromsome:  [3.44, 2.57, -0.79, -2.41]\n",
      "Best loss: 123415.051528805 with chromsome:  [3.44, 2.57, -0.79, -2.41]\n",
      "Best loss: 123415.051528805 with chromsome:  [3.44, 2.57, -0.79, -2.41]\n",
      "Best loss: 123415.051528805 with chromsome:  [3.44, 2.57, -0.79, -2.41]\n",
      "Best loss: 123415.051528805 with chromsome:  [3.44, 2.57, -0.79, -2.41]\n",
      "Best loss: 123415.051528805 with chromsome:  [3.44, 2.57, -0.79, -2.41]\n",
      "Best loss: 123415.051528805 with chromsome:  [3.44, 2.57, -0.79, -2.41]\n",
      "Best loss: 123415.051528805 with chromsome:  [3.44, 2.57, -0.79, -2.41]\n",
      "Best loss: 123415.051528805 with chromsome:  [3.44, 2.57, -0.79, -2.41]\n",
      "Best loss: 123415.051528805 with chromsome:  [3.44, 2.57, -0.79, -2.41]\n",
      "Best loss: 123415.051528805 with chromsome:  [3.44, 2.57, -0.79, -2.41]\n",
      "Best loss: 123415.051528805 with chromsome:  [3.44, 2.57, -0.79, -2.41]\n",
      "Best loss: 123415.051528805 with chromsome:  [3.44, 2.57, -0.79, -2.41]\n",
      "Best loss: 123415.051528805 with chromsome:  [3.44, 2.57, -0.79, -2.41]\n",
      "Best loss: 123415.051528805 with chromsome:  [3.44, 2.57, -0.79, -2.41]\n",
      "Best loss: 123415.051528805 with chromsome:  [3.44, 2.57, -0.79, -2.41]\n",
      "Best loss: 123415.051528805 with chromsome:  [3.44, 2.57, -0.79, -2.41]\n",
      "Best loss: 123415.051528805 with chromsome:  [3.44, 2.57, -0.79, -2.41]\n",
      "Best loss: 123415.051528805 with chromsome:  [3.44, 2.57, -0.79, -2.41]\n",
      "Best loss: 123415.051528805 with chromsome:  [3.44, 2.57, -0.79, -2.41]\n",
      "Best loss: 123415.051528805 with chromsome:  [3.44, 2.57, -0.79, -2.41]\n",
      "Best loss: 123415.051528805 with chromsome:  [3.44, 2.57, -0.79, -2.41]\n",
      "Best loss: 123415.051528805 with chromsome:  [3.44, 2.57, -0.79, -2.41]\n",
      "Best loss: 123415.051528805 with chromsome:  [3.44, 2.57, -0.79, -2.41]\n",
      "Best loss: 123415.051528805 with chromsome:  [3.44, 2.57, -0.79, -2.41]\n",
      "Best loss: 123415.051528805 with chromsome:  [3.44, 2.57, -0.79, -2.41]\n",
      "Best loss: 123415.051528805 with chromsome:  [3.44, 2.57, -0.79, -2.41]\n",
      "Best loss: 123415.051528805 with chromsome:  [3.44, 2.57, -0.79, -2.41]\n",
      "Best loss: 123415.051528805 with chromsome:  [3.44, 2.57, -0.79, -2.41]\n",
      "Best loss: 123415.051528805 with chromsome:  [3.44, 2.57, -0.79, -2.41]\n",
      "Best loss: 123415.051528805 with chromsome:  [3.44, 2.57, -0.79, -2.41]\n",
      "Best loss: 123415.051528805 with chromsome:  [3.44, 2.57, -0.79, -2.41]\n",
      "Best loss: 123415.051528805 with chromsome:  [3.44, 2.57, -0.79, -2.41]\n",
      "Best loss: 123415.051528805 with chromsome:  [3.44, 2.57, -0.79, -2.41]\n",
      "Best loss: 123415.051528805 with chromsome:  [3.44, 2.57, -0.79, -2.41]\n",
      "Best loss: 123415.051528805 with chromsome:  [3.44, 2.57, -0.79, -2.41]\n",
      "Best loss: 123415.051528805 with chromsome:  [3.44, 2.57, -0.79, -2.41]\n",
      "Best loss: 123415.051528805 with chromsome:  [3.44, 2.57, -0.79, -2.41]\n",
      "Best loss: 123415.051528805 with chromsome:  [3.44, 2.57, -0.79, -2.41]\n",
      "Best loss: 123415.051528805 with chromsome:  [3.44, 2.57, -0.79, -2.41]\n",
      "Best loss: 123415.051528805 with chromsome:  [3.44, 2.57, -0.79, -2.41]\n",
      "Best loss: 123415.051528805 with chromsome:  [3.44, 2.57, -0.79, -2.41]\n",
      "Best loss: 123415.051528805 with chromsome:  [3.44, 2.57, -0.79, -2.41]\n",
      "Best loss: 123415.051528805 with chromsome:  [3.44, 2.57, -0.79, -2.41]\n",
      "Best loss: 123415.051528805 with chromsome:  [3.44, 2.57, -0.79, -2.41]\n",
      "Best loss: 123415.051528805 with chromsome:  [3.44, 2.57, -0.79, -2.41]\n",
      "Best loss: 123415.051528805 with chromsome:  [3.44, 2.57, -0.79, -2.41]\n",
      "Best loss: 123415.051528805 with chromsome:  [3.44, 2.57, -0.79, -2.41]\n",
      "Best loss: 123415.051528805 with chromsome:  [3.44, 2.57, -0.79, -2.41]\n",
      "Best loss: 123415.051528805 with chromsome:  [3.44, 2.57, -0.79, -2.41]\n",
      "Best loss: 123415.051528805 with chromsome:  [3.44, 2.57, -0.79, -2.41]\n"
     ]
    }
   ],
   "source": [
    "def run_GA():\n",
    "    n_generations = 100\n",
    "    m = 600\n",
    "    features_X, sales_Y = load_data_from_file()\n",
    "    population = initialize_population(m)\n",
    "    losses_list = []\n",
    "    for i in range(n_generations):\n",
    "        new_population, loss = create_new_population(old_population, elitism=2, gen=1)\n",
    "        losses_list.append(loss)\n",
    "    return losses_list\n",
    "\n",
    "losses_list = run_GA()"
   ]
  },
  {
   "cell_type": "code",
   "execution_count": null,
   "metadata": {},
   "outputs": [],
   "source": [
    "import matplotlib.pyplot as plt\n",
    "\n",
    "def visualize_loss(losses_list):\n",
    "    \n",
    "\n",
    "losses_list = run_GA()\n",
    "visualize_loss(losses_list)"
   ]
  }
 ],
 "metadata": {
  "kernelspec": {
   "display_name": "aio_test",
   "language": "python",
   "name": "python3"
  },
  "language_info": {
   "codemirror_mode": {
    "name": "ipython",
    "version": 3
   },
   "file_extension": ".py",
   "mimetype": "text/x-python",
   "name": "python",
   "nbconvert_exporter": "python",
   "pygments_lexer": "ipython3",
   "version": "3.10.13"
  }
 },
 "nbformat": 4,
 "nbformat_minor": 2
}
