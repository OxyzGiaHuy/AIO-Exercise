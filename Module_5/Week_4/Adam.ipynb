{
 "cells": [
  {
   "cell_type": "markdown",
   "metadata": {},
   "source": [
    "$$f(w_1, w_2) = 0.1w_1^2 + 2w_2^2 \\;\\;\\;\\;\\;\\;\\;(1)$$"
   ]
  },
  {
   "cell_type": "code",
   "execution_count": 16,
   "metadata": {},
   "outputs": [],
   "source": [
    "import numpy as np"
   ]
  },
  {
   "cell_type": "code",
   "execution_count": 17,
   "metadata": {},
   "outputs": [],
   "source": [
    "def df_w(W):\n",
    "    \"\"\"\n",
    "    Thực hiện tính gradient của dw1 và dw2\n",
    "    Arguments:\n",
    "    W -- np.array [w1, w2]\n",
    "    Returns:\n",
    "    dW -- np.array [dw1, dw2], array chứa giá trị đạo hàm theo w1 và w2\n",
    "    \"\"\"\n",
    "    #################### YOUR CODE HERE ####################\n",
    "    w1, w2 = W\n",
    "    dw1 = 0.2 * w1\n",
    "    dw2 = 4 * w2\n",
    "    dW = np.array([dw1, dw2])\n",
    "    ########################################################\n",
    "\n",
    "    return dW"
   ]
  },
  {
   "cell_type": "code",
   "execution_count": 18,
   "metadata": {},
   "outputs": [],
   "source": [
    "def Adam(W, dW, lr, V, S, beta1, beta2, t):\n",
    "    \"\"\"\n",
    "    Thực hiện thuật tóan Adam để update w1 và w2\n",
    "    Arguments:\n",
    "    W -- np.array: [w1, w2]\n",
    "    dW -- np.array: [dw1, dw2], array chứa giá trị đạo hàm theo w1 và w2\n",
    "    lr -- float: learning rate\n",
    "    V -- np.array: [v1, v2] Exponentially weighted averages gradients\n",
    "    S -- np.array: [s1, s2] Exponentially weighted averages bình phương gradients\n",
    "    beta1 -- float: hệ số long-range average cho V\n",
    "    beta2 -- float: hệ số long-range average cho S\n",
    "    t -- int: lần thứ t update (bắt đầu bằng 1)\n",
    "    Returns:\n",
    "    W -- np.array: [w1, w2] w1 và w2 sau khi đã update\n",
    "    V -- np.array: [v1, v2] Exponentially weighted averages gradients sau khi đã cập nhật\n",
    "    S -- np.array: [s1, s2] Exponentially weighted averages bình phương gradients sau khi đã cập nhật\n",
    "    \"\"\"\n",
    "    epsilon = 1e-6\n",
    "    #################### YOUR CODE HERE ####################\n",
    "    V = beta1 * V + (1 - beta1) * dW\n",
    "    S = beta2 * S + (1 - beta2) * dW**2\n",
    "    V_corr = V / (1 - beta1**t)\n",
    "    S_corr = S / (1 - beta2**t)\n",
    "    W = W - lr * V_corr / np.sqrt(S_corr + epsilon)\n",
    "    ########################################################\n",
    "    return W, V, S"
   ]
  },
  {
   "cell_type": "code",
   "execution_count": 19,
   "metadata": {},
   "outputs": [],
   "source": [
    "def train_p1(optimizer, lr, epochs):\n",
    "    \"\"\"\n",
    "    Thực hiện tìm điểm minimum của function (1) dựa vào thuật toán\n",
    "    được truyền vào từ optimizer\n",
    "    Arguments:\n",
    "    optimize : function thực hiện thuật toán optimization cụ thể\n",
    "    lr -- float: learning rate\n",
    "    epochs -- int: số lượng lần (epoch) lặp để tìm điểm minimum\n",
    "    Returns:\n",
    "    results -- list: list các cặp điểm [w1, w2] sau mỗi epoch (mỗi lần cập nhật)\n",
    "    \"\"\"\n",
    "    # initial\n",
    "    W = np.array([-5, -2], dtype=np.float32)\n",
    "    V = np.array([0, 0], dtype=np.float32)\n",
    "    S = np.array([0, 0], dtype=np.float32)\n",
    "    results = [W]\n",
    "    #################### YOUR CODE HERE ####################\n",
    "    # Tạo vòng lặp theo số lần epochs\n",
    "    # tìm gradient dW gồm dw1 và dw2\n",
    "    # dùng thuật toán optimization cập nhật w1, w2, s1, s2, v1, v2\n",
    "    # append cặp [w1, w2] vào list results\n",
    "    # các bạn lưu ý mỗi lần lặp nhớ lấy t (lần thứ t lặp) và t bất đầu bằng 1\n",
    "    for epoch in range(epochs):\n",
    "        dW = df_w(W)\n",
    "        W, V, S = optimizer(W, dW, lr, V, S, beta1 = 0.9, beta2 = 0.999, t = epoch + 1)\n",
    "        results.append(W)\n",
    "    ########################################################\n",
    "    return results"
   ]
  },
  {
   "cell_type": "code",
   "execution_count": 20,
   "metadata": {},
   "outputs": [
    {
     "data": {
      "text/plain": [
       "[array([-5., -2.], dtype=float32),\n",
       " array([-4.8, -1.8], dtype=float32),\n",
       " array([-4.6002545, -1.6008244], dtype=float32),\n",
       " array([-4.400948 , -1.4031725], dtype=float32),\n",
       " array([-4.202277 , -1.2078781], dtype=float32),\n",
       " array([-4.00445  , -1.0159273], dtype=float32),\n",
       " array([-3.8076859, -0.8284729], dtype=float32),\n",
       " array([-3.6122167 , -0.64684147], dtype=float32),\n",
       " array([-3.4182856 , -0.47252753], dtype=float32),\n",
       " array([-3.2261467, -0.3071692], dtype=float32),\n",
       " array([-3.036065  , -0.15249841], dtype=float32),\n",
       " array([-2.8483162 , -0.01026312], dtype=float32),\n",
       " array([-2.6631846 ,  0.11787565], dtype=float32),\n",
       " array([-2.4809632 ,  0.23046172], dtype=float32),\n",
       " array([-2.301952 ,  0.3263588], dtype=float32),\n",
       " array([-2.1264565 ,  0.40484202], dtype=float32),\n",
       " array([-1.9547864 ,  0.46564966], dtype=float32),\n",
       " array([-1.7872528,  0.508988 ], dtype=float32),\n",
       " array([-1.6241664 ,  0.53549445], dtype=float32),\n",
       " array([-1.4658347,  0.5461714], dtype=float32),\n",
       " array([-1.3125597,  0.5423081], dtype=float32),\n",
       " array([-1.1646343,  0.525402 ], dtype=float32),\n",
       " array([-1.0223395 ,  0.49709052], dtype=float32),\n",
       " array([-0.8859408,  0.459095 ], dtype=float32),\n",
       " array([-0.7556853,  0.4131777], dtype=float32),\n",
       " array([-0.6317984 ,  0.36110878], dtype=float32),\n",
       " array([-0.5144801 ,  0.30464035], dtype=float32),\n",
       " array([-0.40390274,  0.24548396], dtype=float32),\n",
       " array([-0.30020773,  0.18528906], dtype=float32),\n",
       " array([-0.20350364,  0.12562062], dtype=float32),\n",
       " array([-0.113864  ,  0.06793518], dtype=float32)]"
      ]
     },
     "execution_count": 20,
     "metadata": {},
     "output_type": "execute_result"
    }
   ],
   "source": [
    "train_p1(Adam, lr=0.2, epochs=30)"
   ]
  }
 ],
 "metadata": {
  "kernelspec": {
   "display_name": "aio_exercise",
   "language": "python",
   "name": "python3"
  },
  "language_info": {
   "codemirror_mode": {
    "name": "ipython",
    "version": 3
   },
   "file_extension": ".py",
   "mimetype": "text/x-python",
   "name": "python",
   "nbconvert_exporter": "python",
   "pygments_lexer": "ipython3",
   "version": "3.10.15"
  }
 },
 "nbformat": 4,
 "nbformat_minor": 2
}
