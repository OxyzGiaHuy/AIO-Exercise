{
 "cells": [
  {
   "cell_type": "markdown",
   "metadata": {},
   "source": [
    "$$f(w_1, w_2) = 0.1w_1^2 + 2w_2^2 \\;\\;\\;\\;\\;\\;\\;(1)$$"
   ]
  },
  {
   "cell_type": "code",
   "execution_count": 35,
   "metadata": {},
   "outputs": [],
   "source": [
    "import numpy as np"
   ]
  },
  {
   "cell_type": "code",
   "execution_count": 36,
   "metadata": {},
   "outputs": [],
   "source": [
    "def df_w(W):\n",
    "    \"\"\"\n",
    "    Thực hiện tính gradient của dw1 và dw2\n",
    "    Arguments:\n",
    "    W -- np.array [w1, w2]\n",
    "    Returns:\n",
    "    dW -- np.array [dw1, dw2], array chứa giá trị đạo hàm theo w1 và w2\n",
    "    \"\"\"\n",
    "    #################### YOUR CODE HERE ####################\n",
    "    w1, w2 = W\n",
    "    dw1 = 0.2 * w1\n",
    "    dw2 = 4 * w2\n",
    "    dW = np.array([dw1, dw2])\n",
    "    ########################################################\n",
    "\n",
    "    return dW"
   ]
  },
  {
   "cell_type": "code",
   "execution_count": null,
   "metadata": {},
   "outputs": [],
   "source": [
    "def sgd_momentum(W, dW, lr, V, beta = 0.9):\n",
    "    \"\"\"\n",
    "    Thực hiện thuật tóan Gradient Descent + Momentum để update w1 và w2\n",
    "    Arguments:\n",
    "    W -- np.array: [w1, w2]\n",
    "    dW -- np.array: [dw1, dw2], array chứa giá trị đạo hàm theo w1 và w2\n",
    "    lr -- float: learning rate\n",
    "    V -- np.array: [v1, v2] Exponentially weighted averages gradients\n",
    "    beta -- float: hệ số long-range average\n",
    "    Returns:\n",
    "    W -- np.array: [w1, w2] w1 và w2 sau khi đã update\n",
    "    V -- np.array: [v1, v2] Exponentially weighted averages gradients sau khi đã cập nhật\n",
    "    \"\"\"\n",
    "    #################### YOUR CODE HERE ####################\n",
    "\n",
    "    V = beta * V + (1 - beta) * W\n",
    "    W = W - lr * V\n",
    "    ########################################################\n",
    "    return W, V"
   ]
  },
  {
   "cell_type": "code",
   "execution_count": 38,
   "metadata": {},
   "outputs": [],
   "source": [
    "def train_p1(optimizer, lr, epochs):\n",
    "    \"\"\"\n",
    "    Thực hiện tìm điểm minimum của function (1) dựa vào thuật toán được truyền vào từ optimizer\n",
    "    Arguments:\n",
    "    optimize : function thực hiện thuật toán optimization cụ thể\n",
    "    lr -- float: learning rate\n",
    "    epochs -- int: số lượng lần (epoch) lặp để tìm điểm minimum\n",
    "    Returns:\n",
    "    results -- list: list các cặp điểm [w1, w2] sau mỗi epoch (mỗi lần cập nhật)\n",
    "    \"\"\"\n",
    "    # initial\n",
    "    W = np.array([-5, -2], dtype=np.float32)\n",
    "    V = np.array([0, 0], dtype=np.float32)\n",
    "    results = [W]\n",
    "    #################### YOUR CODE HERE ####################\n",
    "    # Tạo vòng lặp theo số lần epochs\n",
    "    # tìm gradient dW gồm dw1 và dw2\n",
    "    # dùng thuật toán optimization cập nhật w1, w2, v1, v2\n",
    "    # append cặp [w1, w2] vào list results\n",
    "    for _ in range(epochs):\n",
    "        dW = df_w(W)\n",
    "        W, V = optimizer(W, dW, lr, V)\n",
    "        results.append(W)\n",
    "\n",
    "    ########################################################\n",
    "    return results"
   ]
  },
  {
   "cell_type": "code",
   "execution_count": 39,
   "metadata": {},
   "outputs": [
    {
     "data": {
      "text/plain": [
       "[array([-5., -2.], dtype=float32),\n",
       " array([-4.7 , -1.88], dtype=float32),\n",
       " array([-4.148 , -1.6592], dtype=float32),\n",
       " array([-3.4023197, -1.3609279], dtype=float32),\n",
       " array([-2.5270684, -1.0108274], dtype=float32),\n",
       " array([-1.5877181, -0.6350874], dtype=float32),\n",
       " array([-0.6470398 , -0.25881606], dtype=float32),\n",
       " array([0.23839307, 0.09535706], dtype=float32),\n",
       " array([1.0209789 , 0.40839142], dtype=float32),\n",
       " array([1.6640475, 0.6656189], dtype=float32),\n",
       " array([2.1429663 , 0.85718644], dtype=float32),\n",
       " array([2.4454153 , 0.97816604], dtype=float32),\n",
       " array([2.5708945, 1.0283577], dtype=float32),\n",
       " array([2.529572 , 1.0118288], dtype=float32),\n",
       " array([2.3406074, 0.936243 ], dtype=float32),\n",
       " array([2.0301027 , 0.81204116], dtype=float32),\n",
       " array([1.6288425 , 0.65153706], dtype=float32),\n",
       " array([1.1699777 , 0.46799114], dtype=float32),\n",
       " array([0.6868007 , 0.27472034], dtype=float32),\n",
       " array([0.21073344, 0.0842934 ], dtype=float32),\n",
       " array([-0.23037109, -0.09214845], dtype=float32),\n",
       " array([-0.61354285, -0.2454172 ], dtype=float32),\n",
       " array([-0.92158484, -0.36863402], dtype=float32),\n",
       " array([-1.1435275, -0.4574111], dtype=float32),\n",
       " array([-1.2746643, -0.5098658], dtype=float32),\n",
       " array([-1.3162075, -0.5264831], dtype=float32),\n",
       " array([-1.274624 , -0.5098497], dtype=float32),\n",
       " array([-1.1607214 , -0.46428865], dtype=float32),\n",
       " array([-0.9885658, -0.3954264], dtype=float32),\n",
       " array([-0.7743118 , -0.30972475], dtype=float32),\n",
       " array([-0.53502446, -0.21400979], dtype=float32)]"
      ]
     },
     "execution_count": 39,
     "metadata": {},
     "output_type": "execute_result"
    }
   ],
   "source": [
    "train_p1(sgd_momentum, lr=0.6, epochs=30)"
   ]
  }
 ],
 "metadata": {
  "kernelspec": {
   "display_name": "aio_exercise",
   "language": "python",
   "name": "python3"
  },
  "language_info": {
   "codemirror_mode": {
    "name": "ipython",
    "version": 3
   },
   "file_extension": ".py",
   "mimetype": "text/x-python",
   "name": "python",
   "nbconvert_exporter": "python",
   "pygments_lexer": "ipython3",
   "version": "3.10.15"
  }
 },
 "nbformat": 4,
 "nbformat_minor": 2
}
